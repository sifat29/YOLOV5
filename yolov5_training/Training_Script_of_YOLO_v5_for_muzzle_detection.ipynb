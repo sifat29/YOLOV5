{
  "cells": [
    {
      "cell_type": "markdown",
      "metadata": {
        "id": "xhl6GuxJFml5"
      },
      "source": [
        "# UNZIPPING THE DATASET\n"
      ]
    },
    {
      "cell_type": "code",
      "execution_count": null,
      "metadata": {
        "colab": {
          "base_uri": "https://localhost:8080/"
        },
        "id": "qHuL4c231QoD",
        "outputId": "50635d25-13cf-4d97-89fc-7d73868fb4c6",
        "vscode": {
          "languageId": "python"
        }
      },
      "outputs": [
        {
          "name": "stdout",
          "output_type": "stream",
          "text": [
            "Mounted at /content/drive\n"
          ]
        }
      ],
      "source": [
        "from google.colab import drive\n",
        "drive.mount('/content/drive')"
      ]
    },
    {
      "cell_type": "code",
      "execution_count": null,
      "metadata": {
        "colab": {
          "base_uri": "https://localhost:8080/"
        },
        "id": "rFkfF8RiD1GG",
        "outputId": "5d38d215-6fe3-42b7-9820-891657caf66e",
        "vscode": {
          "languageId": "python"
        }
      },
      "outputs": [
        {
          "name": "stdout",
          "output_type": "stream",
          "text": [
            "/content/drive/MyDrive/yolo5training/yolov5\n"
          ]
        }
      ],
      "source": [
        "%cd /content/drive/MyDrive/yolo5training/yolov5"
      ]
    },
    {
      "cell_type": "markdown",
      "metadata": {
        "id": "VVO58hItFsT4"
      },
      "source": [
        "#CLONING THE YOLO-V5 FILES FROM OFFICIAL REPOSITORY"
      ]
    },
    {
      "cell_type": "code",
      "execution_count": null,
      "metadata": {
        "colab": {
          "base_uri": "https://localhost:8080/"
        },
        "id": "GBAJ4od4UEL3",
        "outputId": "27cedc1e-b3cb-4c8c-85f3-4e90eb0e0148",
        "vscode": {
          "languageId": "python"
        }
      },
      "outputs": [
        {
          "name": "stdout",
          "output_type": "stream",
          "text": [
            "Cloning into 'yolov5'...\n",
            "remote: Enumerating objects: 12034, done.\u001b[K\n",
            "remote: Counting objects: 100% (5/5), done.\u001b[K\n",
            "remote: Compressing objects: 100% (5/5), done.\u001b[K\n",
            "remote: Total 12034 (delta 0), reused 1 (delta 0), pack-reused 12029\u001b[K\n",
            "Receiving objects: 100% (12034/12034), 12.52 MiB | 9.78 MiB/s, done.\n",
            "Resolving deltas: 100% (8271/8271), done.\n"
          ]
        }
      ],
      "source": [
        "#!git clone https://github.com/ultralytics/yolov5.git"
      ]
    },
    {
      "cell_type": "markdown",
      "metadata": {
        "id": "Wl6BjdGkF2BK"
      },
      "source": [
        "# CHANGING THE DIRECTORY"
      ]
    },
    {
      "cell_type": "code",
      "execution_count": null,
      "metadata": {
        "colab": {
          "base_uri": "https://localhost:8080/"
        },
        "id": "Ke4jzogVTfhL",
        "outputId": "4152e96b-54a5-43a5-c5ef-15efbc0e8808",
        "vscode": {
          "languageId": "python"
        }
      },
      "outputs": [
        {
          "name": "stdout",
          "output_type": "stream",
          "text": [
            "/content/drive/MyDrive/yolov5folder/yolov5\n"
          ]
        }
      ],
      "source": [
        "%cd /content/drive/MyDrive/yolov5folder/yolov5"
      ]
    },
    {
      "cell_type": "markdown",
      "metadata": {
        "id": "ge9PgTIeF6rI"
      },
      "source": [
        "#INSTALLING THE DEPENDENCIES"
      ]
    },
    {
      "cell_type": "code",
      "execution_count": null,
      "metadata": {
        "colab": {
          "base_uri": "https://localhost:8080/"
        },
        "id": "gypm2_zVcm-m",
        "outputId": "09e3594d-5687-462b-bd7e-ec2bc1ed1647",
        "vscode": {
          "languageId": "python"
        }
      },
      "outputs": [
        {
          "name": "stdout",
          "output_type": "stream",
          "text": [
            "shell-init: error retrieving current directory: getcwd: cannot access parent directories: Transport endpoint is not connected\n",
            "shell-init: error retrieving current directory: getcwd: cannot access parent directories: Transport endpoint is not connected\n",
            "The folder you are executing pip from can no longer be found.\n"
          ]
        }
      ],
      "source": [
        "!pip install -r requirements.txt"
      ]
    },
    {
      "cell_type": "markdown",
      "metadata": {
        "id": "kUi4h9WKGN_q"
      },
      "source": [
        "# STEPS BEFORE TRAINING CUSTOM DATASET:\n",
        "1. Go to yolov5/data/\n",
        "2. Open coco128.yaml\n",
        "3. Edit the following inside it:\n",
        "    \n",
        "\n",
        "      1.   Training and Test file path\n",
        "      2.   Number of classes and Class names.\n",
        "\n"
      ]
    },
    {
      "cell_type": "markdown",
      "metadata": {
        "id": "eonZvqVWHEea"
      },
      "source": [
        "# TRAINING THE YOLO-V5 MODEL"
      ]
    },
    {
      "cell_type": "code",
      "execution_count": null,
      "metadata": {
        "colab": {
          "base_uri": "https://localhost:8080/"
        },
        "id": "Rdow0Pp1zg8x",
        "outputId": "b88f806b-8d0a-4bb0-8726-7c1f01d934d7",
        "vscode": {
          "languageId": "python"
        }
      },
      "outputs": [
        {
          "name": "stdout",
          "output_type": "stream",
          "text": [
            "shell-init: error retrieving current directory: getcwd: cannot access parent directories: Transport endpoint is not connected\n",
            "shell-init: error retrieving current directory: getcwd: cannot access parent directories: Transport endpoint is not connected\n",
            "sh: 0: getcwd() failed: Transport endpoint is not connected\n",
            "Intel MKL FATAL ERROR: Cannot load /usr/local/lib/python3.7/dist-packages/torch/lib/libtorch_cpu.so.\n"
          ]
        }
      ],
      "source": [
        "!python /content/drive/MyDrive/yolo5training/yolov5/train.py --img 416 --batch 16 --epochs 10 --data coco128.yaml --weights yolov5s.pt "
      ]
    },
    {
      "cell_type": "markdown",
      "metadata": {
        "id": "5STJ2WzXHVPx"
      },
      "source": [
        "# TESTING"
      ]
    },
    {
      "cell_type": "code",
      "execution_count": null,
      "metadata": {
        "colab": {
          "base_uri": "https://localhost:8080/"
        },
        "id": "vkcJGHFmcPf3",
        "outputId": "b1f36ac3-0c20-415c-a327-ca79a4dfd3b1",
        "vscode": {
          "languageId": "python"
        }
      },
      "outputs": [
        {
          "name": "stdout",
          "output_type": "stream",
          "text": [
            "/content/drive/MyDrive/yolov5folder/yolov5\n",
            "\u001b[34m\u001b[1mdetect: \u001b[0mweights=['/content/drive/MyDrive/yolov5folder/yolov5/runs/train/exp2/weights/best.pt'], source=/content/drive/MyDrive/yolo5training/new_test_images, data=data/coco128.yaml, imgsz=[640, 640], conf_thres=0.7, iou_thres=0.75, max_det=1000, device=, view_img=False, save_txt=False, save_conf=False, save_crop=False, nosave=False, classes=None, agnostic_nms=False, augment=False, visualize=False, update=False, project=runs/detect, name=exp, exist_ok=False, line_thickness=3, hide_labels=False, hide_conf=False, half=False, dnn=False\n",
            "YOLOv5 🚀 v6.2-51-ge6f54c5 Python-3.7.13 torch-1.12.1+cu113 CPU\n",
            "\n",
            "Fusing layers... \n",
            "Model summary: 213 layers, 7012822 parameters, 0 gradients\n",
            "image 1/18 /content/drive/.shortcut-targets-by-id/1AWV2exAqiSh3RAxP4xJGYEKjKWYc7IJJ/yolo5training/new_test_images/200343_061.jpg: 640x480 1 muzzle, 296.3ms\n",
            "image 2/18 /content/drive/.shortcut-targets-by-id/1AWV2exAqiSh3RAxP4xJGYEKjKWYc7IJJ/yolo5training/new_test_images/200344_001.jpg: 640x480 1 muzzle, 296.7ms\n",
            "image 3/18 /content/drive/.shortcut-targets-by-id/1AWV2exAqiSh3RAxP4xJGYEKjKWYc7IJJ/yolo5training/new_test_images/200344_058.jpg: 640x480 (no detections), 269.4ms\n",
            "image 4/18 /content/drive/.shortcut-targets-by-id/1AWV2exAqiSh3RAxP4xJGYEKjKWYc7IJJ/yolo5training/new_test_images/200357_036.jpg: 640x480 1 muzzle, 276.9ms\n",
            "image 5/18 /content/drive/.shortcut-targets-by-id/1AWV2exAqiSh3RAxP4xJGYEKjKWYc7IJJ/yolo5training/new_test_images/200357_041.jpg: 640x480 1 muzzle, 295.7ms\n",
            "image 6/18 /content/drive/.shortcut-targets-by-id/1AWV2exAqiSh3RAxP4xJGYEKjKWYc7IJJ/yolo5training/new_test_images/200358_014.jpg: 480x640 1 muzzle, 281.2ms\n",
            "image 7/18 /content/drive/.shortcut-targets-by-id/1AWV2exAqiSh3RAxP4xJGYEKjKWYc7IJJ/yolo5training/new_test_images/200358_028.jpg: 480x640 (no detections), 274.7ms\n",
            "image 8/18 /content/drive/.shortcut-targets-by-id/1AWV2exAqiSh3RAxP4xJGYEKjKWYc7IJJ/yolo5training/new_test_images/200359_012.jpg: 640x480 1 muzzle, 293.1ms\n",
            "image 9/18 /content/drive/.shortcut-targets-by-id/1AWV2exAqiSh3RAxP4xJGYEKjKWYc7IJJ/yolo5training/new_test_images/Central_001_34.jpg: 640x480 1 muzzle, 298.1ms\n",
            "image 10/18 /content/drive/.shortcut-targets-by-id/1AWV2exAqiSh3RAxP4xJGYEKjKWYc7IJJ/yolo5training/new_test_images/Central_010_07.jpg: 640x480 1 muzzle, 297.4ms\n",
            "image 11/18 /content/drive/.shortcut-targets-by-id/1AWV2exAqiSh3RAxP4xJGYEKjKWYc7IJJ/yolo5training/new_test_images/Central_017_01.jpg: 640x512 1 muzzle, 341.7ms\n",
            "image 12/18 /content/drive/.shortcut-targets-by-id/1AWV2exAqiSh3RAxP4xJGYEKjKWYc7IJJ/yolo5training/new_test_images/Central_018_04.jpg: 640x512 (no detections), 320.7ms\n",
            "image 13/18 /content/drive/.shortcut-targets-by-id/1AWV2exAqiSh3RAxP4xJGYEKjKWYc7IJJ/yolo5training/new_test_images/Central_019_01.jpg: 640x512 (no detections), 309.3ms\n",
            "image 14/18 /content/drive/.shortcut-targets-by-id/1AWV2exAqiSh3RAxP4xJGYEKjKWYc7IJJ/yolo5training/new_test_images/Central_022_13.jpg: 640x512 1 muzzle, 318.8ms\n",
            "image 15/18 /content/drive/.shortcut-targets-by-id/1AWV2exAqiSh3RAxP4xJGYEKjKWYc7IJJ/yolo5training/new_test_images/Central_024_01.jpg: 640x512 1 muzzle, 379.5ms\n",
            "image 16/18 /content/drive/.shortcut-targets-by-id/1AWV2exAqiSh3RAxP4xJGYEKjKWYc7IJJ/yolo5training/new_test_images/Central_027_11.jpg: 640x512 1 muzzle, 310.8ms\n",
            "image 17/18 /content/drive/.shortcut-targets-by-id/1AWV2exAqiSh3RAxP4xJGYEKjKWYc7IJJ/yolo5training/new_test_images/Central_029_28.jpg: 640x512 (no detections), 460.3ms\n",
            "image 18/18 /content/drive/.shortcut-targets-by-id/1AWV2exAqiSh3RAxP4xJGYEKjKWYc7IJJ/yolo5training/new_test_images/Central_031_10.jpg: 640x512 (no detections), 459.2ms\n",
            "Speed: 1.6ms pre-process, 321.1ms inference, 0.5ms NMS per image at shape (1, 3, 640, 640)\n",
            "Results saved to \u001b[1mruns/detect/exp5\u001b[0m\n"
          ]
        }
      ],
      "source": [
        "%cd /content/drive/MyDrive/yolov5folder/yolov5\n",
        "!python /content/drive/MyDrive/yolov5folder/yolov5/detect.py --weights /content/drive/MyDrive/yolov5folder/yolov5/runs/train/exp2/weights/best.pt --img 640 --conf 0.70 --iou-thres 0.75 --source /content/drive/MyDrive/yolo5training/new_test_images"
      ]
    },
    {
      "cell_type": "markdown",
      "metadata": {
        "id": "5Yh2zd2AHkUg"
      },
      "source": [
        "#RETRAINING FROM THE LAST CHECKPOINT"
      ]
    },
    {
      "cell_type": "code",
      "execution_count": null,
      "metadata": {
        "id": "r732j58annF4",
        "vscode": {
          "languageId": "python"
        }
      },
      "outputs": [],
      "source": [
        "!python /content/drive/MyDrive/yolov5folder/yolov5/train.py --weights /content/drive/MyDrive/yolov5folder/yolov5/runs/train/exp2/weights/last.pt --batch 16 --epochs 10 --img 416"
      ]
    },
    {
      "cell_type": "code",
      "execution_count": null,
      "metadata": {
        "colab": {
          "base_uri": "https://localhost:8080/"
        },
        "id": "Q1YzRYJ1cqGg",
        "outputId": "bd63d82f-639b-4cda-a2ff-34b9bf7b394d",
        "vscode": {
          "languageId": "python"
        }
      },
      "outputs": [
        {
          "name": "stdout",
          "output_type": "stream",
          "text": [
            "/content/drive/MyDrive/yolo5training/yolov5\n",
            "\u001b[34m\u001b[1mCustom_image_detection_yolov5: \u001b[0mweights=['/content/drive/MyDrive/yolo5training/yolov5/runs/train/exp3/weights/best.pt'], source=/content/drive/MyDrive/yolo5training/new_test_images/Central_024_01.jpg, data=data/coco128.yaml, imgsz=[640, 640], conf_thres=0.25, iou_thres=0.45, max_det=1000, device=, view_img=False, save_txt=False, save_conf=False, save_crop=False, nosave=False, classes=None, agnostic_nms=False, augment=False, visualize=False, update=False, project=runs/detect, name=exp, exist_ok=False, line_thickness=3, hide_labels=False, hide_conf=False, half=False, dnn=False\n",
            "YOLOv5 🚀 v6.1-386-g2e57b84 Python-3.7.13 torch-1.12.1+cu113 CUDA:0 (Tesla T4, 15110MiB)\n",
            "\n",
            "Fusing layers... \n",
            "Model summary: 213 layers, 7012822 parameters, 0 gradients\n",
            "image 1/1 /content/drive/MyDrive/yolo5training/new_test_images/Central_024_01.jpg: 640x512 1 muzzle, Done. (0.014s)\n",
            "Speed: 0.5ms pre-process, 14.1ms inference, 1.4ms NMS per image at shape (1, 3, 640, 640)\n",
            "Results saved to \u001b[1mruns/detect/exp2\u001b[0m\n"
          ]
        }
      ],
      "source": [
        "%cd /content/drive/MyDrive/yolo5training/yolov5\n",
        "!python /content/drive/MyDrive/yolo5training/yolov5/Custom_image_detection_yolov5.py --source /content/drive/MyDrive/yolo5training/new_test_images/Central_024_01.jpg --weights /content/drive/MyDrive/yolo5training/yolov5/runs/train/exp3/weights/best.pt"
      ]
    }
  ],
  "metadata": {
    "accelerator": "GPU",
    "colab": {
      "provenance": []
    },
    "gpuClass": "standard",
    "kernelspec": {
      "display_name": "Python 3",
      "name": "python3"
    }
  },
  "nbformat": 4,
  "nbformat_minor": 0
}
